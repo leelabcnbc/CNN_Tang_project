{
 "cells": [
  {
   "cell_type": "code",
   "execution_count": 1,
   "outputs": [],
   "source": [
    "import torchvision\n",
    "import torchvision.transforms as transforms\n",
    "import torch\n",
    "from modeling.models.bethge import BethgeModel\n",
    "import torch.nn as nn\n",
    "from tqdm import tqdm\n",
    "import numpy as np\n",
    "from modeling.train_utils import array_to_dataloader\n",
    "from torch.utils.data import Dataset, DataLoader\n",
    "from torch.nn.functional import conv2d\n",
    "import matplotlib.pyplot as plt\n",
    "from analysis.Stat_utils import get_site_corr\n",
    "device = 'cuda'"
   ],
   "metadata": {
    "collapsed": false
   }
  },
  {
   "cell_type": "code",
   "execution_count": 2,
   "outputs": [],
   "source": [
    "class reconstruct_CNN(nn.Module):\n",
    "    def __init__(self, num_neuron):\n",
    "        super().__init__()\n",
    "        modules = []\n",
    "\n",
    "        hidden_dims = [16, 64, 128, 64, 16]\n",
    "\n",
    "        for i in range(len(hidden_dims) - 1):\n",
    "            modules.append(\n",
    "                nn.Sequential(\n",
    "                    nn.ConvTranspose2d(hidden_dims[i],\n",
    "                                       hidden_dims[i + 1],\n",
    "                                       kernel_size=3,\n",
    "                                       stride=2,\n",
    "                                       padding=1,\n",
    "                                       output_padding=1),\n",
    "                    nn.BatchNorm2d(hidden_dims[i + 1]),\n",
    "                    nn.LeakyReLU())\n",
    "            )\n",
    "        self.final_layer = nn.Sequential(\n",
    "            nn.ConvTranspose2d(hidden_dims[-1],\n",
    "                               hidden_dims[-1],\n",
    "                               kernel_size=5,\n",
    "                               stride=1,\n",
    "                               padding=2,\n",
    "                               output_padding=2,\n",
    "                               dilation=5),\n",
    "            nn.BatchNorm2d(hidden_dims[-1]),\n",
    "            nn.LeakyReLU(),\n",
    "            nn.Conv2d(hidden_dims[-1], out_channels=1,\n",
    "                      kernel_size=3, padding=1),\n",
    "            nn.Tanh())\n",
    "\n",
    "        self.layers = nn.Sequential(*modules)\n",
    "        self.linear_input = nn.Linear(num_neuron, hidden_dims[0] * 4)\n",
    "\n",
    "    def forward(self, x):\n",
    "        x = self.linear_input(x)\n",
    "        x = x.view(-1, 16, 2, 2)\n",
    "        x = self.layers(x)\n",
    "        x = self.final_layer(x)\n",
    "        return x\n"
   ],
   "metadata": {
    "collapsed": false
   }
  },
  {
   "cell_type": "code",
   "execution_count": 3,
   "outputs": [],
   "source": [
    "class selected_rsp_dataset(Dataset):\n",
    "    \"\"\"Face Landmarks dataset.\"\"\"\n",
    "\n",
    "    def __init__(self, rsps, cifarset:Dataset):\n",
    "        \"\"\"\n",
    "        Args:\n",
    "            csv_file (string): Path to the csv file with annotations.\n",
    "            root_dir (string): Directory with all the images.\n",
    "            transform (callable, optional): Optional transform to be applied\n",
    "                on a sample.\n",
    "        \"\"\"\n",
    "        self.cifarset = cifarset\n",
    "        self.rsps = rsps\n",
    "\n",
    "    def __len__(self):\n",
    "        return len(self.rsps)\n",
    "\n",
    "    def __getitem__(self, idx):\n",
    "        img, _ = self.cifarset.__getitem__(idx)\n",
    "        rsp = torch.FloatTensor(self.rsps[idx])\n",
    "        return img, rsp"
   ],
   "metadata": {
    "collapsed": false
   }
  },
  {
   "cell_type": "code",
   "execution_count": 5,
   "outputs": [],
   "source": [
    "model = reconstruct_CNN(279).to(device)\n",
    "input_names = ['Predicted_response']\n",
    "output_names = ['image']\n",
    "dummy_input = torch.randn(10, 279, device=\"cuda\")\n",
    "torch.onnx.export(model, dummy_input, 'cnn.onnx', input_names=input_names, output_names=output_names)"
   ],
   "metadata": {
    "collapsed": false
   }
  },
  {
   "cell_type": "code",
   "execution_count": 4,
   "outputs": [
    {
     "name": "stdout",
     "output_type": "stream",
     "text": [
      "Files already downloaded and verified\n",
      "Files already downloaded and verified\n"
     ]
    }
   ],
   "source": [
    "criterion = nn.functional.mse_loss\n",
    "transform = transforms.Compose(\n",
    "    [transforms.ToTensor(),\n",
    "     transforms.Resize(50),\n",
    "     transforms.Normalize((0.5, 0.5, 0.5), (0.5, 0.5, 0.5)),\n",
    "     transforms.Grayscale()]\n",
    ")\n",
    "\n",
    "batch_size = 1024\n",
    "\n",
    "trainset = torchvision.datasets.CIFAR10(root='./data', train=True,\n",
    "                                        download=True, transform=transform)\n",
    "\n",
    "testset = torchvision.datasets.CIFAR10(root='./data', train=False,\n",
    "                                       download=True, transform=transform)\n",
    "train_rsp = np.load('few_selected_rsp_cifar10.npy')\n",
    "test_rsp = np.load('few_selected_rsp_cifar10_test.npy')\n",
    "\n",
    "trainset_rsp = selected_rsp_dataset(train_rsp,trainset)\n",
    "testset_rsp = selected_rsp_dataset(test_rsp, testset)\n",
    "\n",
    "testloader = torch.utils.data.DataLoader(trainset_rsp, batch_size=batch_size,\n",
    "                                          shuffle=False)\n",
    "trainloader = torch.utils.data.DataLoader(testset_rsp, batch_size=batch_size,\n",
    "                                           shuffle=True)"
   ],
   "metadata": {
    "collapsed": false
   }
  },
  {
   "cell_type": "code",
   "execution_count": null,
   "outputs": [
    {
     "name": "stderr",
     "output_type": "stream",
     "text": [
      "  0%|          | 0/100 [00:00<?, ?it/s]"
     ]
    }
   ],
   "source": [
    "prednet = reconstruct_CNN(train_rsp.shape[1])\n",
    "prednet.to(device)\n",
    "optimizer = torch.optim.Adam(prednet.parameters(), lr=0.005)\n",
    "losses = []\n",
    "accs = []\n",
    "\n",
    "bestloss = 200\n",
    "num_epochs = 100\n",
    "for e in tqdm(range(num_epochs)):\n",
    "    train_losses = []\n",
    "    prednet = prednet.train()\n",
    "    for i, (x, y) in enumerate(trainloader):\n",
    "        x = x.float().to(device)\n",
    "        y = y.float().to(device)\n",
    "        recon = prednet(y)\n",
    "        loss = criterion(recon, x)\n",
    "\n",
    "        optimizer.zero_grad()\n",
    "        loss.backward()\n",
    "        optimizer.step()\n",
    "\n",
    "        train_losses.append(loss.item())\n",
    "    losses.append(np.mean(train_losses))\n",
    "\n",
    "    val_losses = []\n",
    "    with torch.no_grad():\n",
    "        prednet = prednet.eval()\n",
    "        for i, (x, y) in enumerate(testloader):\n",
    "            x = x.float().to(device)\n",
    "            y = y.float().to(device)\n",
    "            recon = prednet(y)\n",
    "            loss = criterion(recon, x)\n",
    "\n",
    "            val_losses.append(loss.item())\n",
    "    avg_loss = np.mean(val_losses)\n",
    "    accs.append(avg_loss)\n",
    "    if avg_loss < bestloss:\n",
    "        torch.save(prednet.state_dict(), \"artificial_recon_model_selective_few_15\")\n",
    "        bestloss = avg_loss\n",
    "\n",
    "    print(f'epoch {e} : train loss is {float(losses[-1])}')\n",
    "    print(f'epoch {e} : val loss is   {float(accs[-1])}')"
   ],
   "metadata": {
    "collapsed": false,
    "pycharm": {
     "is_executing": true
    }
   }
  },
  {
   "cell_type": "code",
   "execution_count": 9,
   "outputs": [],
   "source": [
    "prednet = reconstruct_CNN(train_rsp.shape[1])\n",
    "prednet.load_state_dict(torch.load('artificial_recon_model_selective_few'))\n",
    "prednet.eval()\n",
    "for i in range(500):\n",
    "    origin, sample = testset_rsp.__getitem__(i)\n",
    "    sample.to(device)\n",
    "    recon = prednet(sample).detach().cpu().numpy()\n",
    "    origin = origin.numpy()\n",
    "\n",
    "    r_img = np.reshape(recon, (50, 50))\n",
    "    img = np.reshape(origin, (50, 50))\n",
    "    plt.imsave(f'test/recon_{i}.png', r_img, cmap='gray')\n",
    "    plt.show()\n",
    "    plt.imsave(f'test/origin_{i}.png', img, cmap='gray')\n",
    "    plt.show()"
   ],
   "metadata": {
    "collapsed": false
   }
  },
  {
   "cell_type": "code",
   "execution_count": 7,
   "outputs": [
    {
     "name": "stdout",
     "output_type": "stream",
     "text": [
      "0.08732369116374425\n"
     ]
    }
   ],
   "source": [
    "with torch.no_grad():\n",
    "    val_losses = []\n",
    "    prednet.to(device)\n",
    "    for i, (x, y) in enumerate(testloader):\n",
    "        x = x.float().to(device)\n",
    "        y = y.float().to(device)\n",
    "        recon = prednet(y)\n",
    "        loss = criterion(recon, x)\n",
    "\n",
    "        val_losses.append(loss.item())\n",
    "    avg_loss = np.mean(val_losses)\n",
    "    print(avg_loss)"
   ],
   "metadata": {
    "collapsed": false
   }
  },
  {
   "cell_type": "code",
   "execution_count": null,
   "outputs": [],
   "source": [],
   "metadata": {
    "collapsed": false
   }
  }
 ],
 "metadata": {
  "kernelspec": {
   "display_name": "Python 3",
   "language": "python",
   "name": "python3"
  },
  "language_info": {
   "codemirror_mode": {
    "name": "ipython",
    "version": 2
   },
   "file_extension": ".py",
   "mimetype": "text/x-python",
   "name": "python",
   "nbconvert_exporter": "python",
   "pygments_lexer": "ipython2",
   "version": "2.7.6"
  }
 },
 "nbformat": 4,
 "nbformat_minor": 0
}
