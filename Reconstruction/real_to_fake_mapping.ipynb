{
 "cells": [
  {
   "cell_type": "code",
   "execution_count": 11,
   "metadata": {
    "collapsed": true
   },
   "outputs": [],
   "source": [
    "import torch\n",
    "import numpy as np\n",
    "import torch.nn as nn\n",
    "from torch.utils.data import TensorDataset, DataLoader\n",
    "from tqdm import tqdm\n",
    "from torch.optim import Adam\n",
    "from analysis.Stat_utils import get_rsp_data\n",
    "from modeling.models.bethge import BethgeModel\n",
    "from modeling.losses import corr_loss"
   ]
  },
  {
   "cell_type": "code",
   "execution_count": 12,
   "outputs": [],
   "source": [
    "class Mapper(torch.nn.Module):\n",
    "    def __init__(self, numNeurons):\n",
    "        super().__init__()\n",
    "        self.layers = nn.Sequential(\n",
    "            nn.Linear(numNeurons,512),\n",
    "            nn.LeakyReLU(),\n",
    "            nn.Linear(512,1024),\n",
    "            nn.LeakyReLU(),\n",
    "            nn.Linear(1024,512),\n",
    "            nn.LeakyReLU(),\n",
    "            nn.Linear(512,numNeurons),\n",
    "        )\n",
    "\n",
    "    def forward(self, x):\n",
    "        output = self.layers(x)\n",
    "        return output"
   ],
   "metadata": {
    "collapsed": false
   }
  },
  {
   "cell_type": "code",
   "execution_count": 13,
   "outputs": [
    {
     "name": "stderr",
     "output_type": "stream",
     "text": [
      "100%|██████████| 245/245 [00:33<00:00,  7.29it/s]\n"
     ]
    }
   ],
   "source": [
    "channels = 256\n",
    "num_layers = 9\n",
    "input_size = 50\n",
    "output_size = 299\n",
    "first_k = 9\n",
    "later_k = 3\n",
    "pool_size = 2\n",
    "factorized = True\n",
    "num_maps = 1\n",
    "net = BethgeModel(channels=channels, num_layers=num_layers, input_size= 50,\n",
    "output_size=output_size, first_k=first_k, later_k=later_k,\n",
    "                      input_channels=1, pool_size=pool_size, factorized=True,\n",
    "                      num_maps=num_maps).cuda()\n",
    "net.load_state_dict(torch.load('D:/school/research/CNN_Tang_project/saved_models/new_learned_models/'+'m2s1'+'_9_model_version_0'))\n",
    "fake_rsp, real_rsp = get_rsp_data(net,'cuda','m2s1')"
   ],
   "metadata": {
    "collapsed": false
   }
  },
  {
   "cell_type": "code",
   "execution_count": 14,
   "outputs": [],
   "source": [
    "dataset = TensorDataset(torch.tensor(real_rsp), torch.tensor(fake_rsp))\n",
    "loader = DataLoader(dataset, shuffle=True, batch_size=256)"
   ],
   "metadata": {
    "collapsed": false
   }
  },
  {
   "cell_type": "code",
   "execution_count": 16,
   "outputs": [
    {
     "name": "stderr",
     "output_type": "stream",
     "text": [
      "100%|██████████| 1000/1000 [12:21<00:00,  1.35it/s]\n"
     ]
    }
   ],
   "source": [
    "num_epochs = 1000\n",
    "device = torch.device('cuda' if torch.cuda.is_available() else 'cpu')\n",
    "\n",
    "mapper  = Mapper(299)\n",
    "mapper = mapper.to(device)\n",
    "\n",
    "optimizer = Adam(mapper.parameters(), lr=1e-3)\n",
    "\n",
    "device = torch.device('cuda' if torch.cuda.is_available() else 'cpu')\n",
    "best_loss = 300\n",
    "for epoch in tqdm(range(num_epochs)):\n",
    "    total_loss = 0\n",
    "    for x, y in (loader):\n",
    "        optimizer.zero_grad()\n",
    "        x = x.to(device)\n",
    "        y = y.to(device)\n",
    "        out = mapper(x)\n",
    "        loss = corr_loss(out, y, corr_portion=0.9, mae_portion=0.1)\n",
    "        loss.backward()\n",
    "        optimizer.step()\n",
    "        total_loss += loss.item()\n",
    "    total_loss /= len(loader)\n",
    "    #print(total_loss)\n",
    "    if total_loss < best_loss:\n",
    "        torch.save(mapper.state_dict(),'real_fake_mapper_corr')"
   ],
   "metadata": {
    "collapsed": false
   }
  },
  {
   "cell_type": "code",
   "execution_count": null,
   "outputs": [],
   "source": [],
   "metadata": {
    "collapsed": false
   }
  }
 ],
 "metadata": {
  "kernelspec": {
   "display_name": "Python 3",
   "language": "python",
   "name": "python3"
  },
  "language_info": {
   "codemirror_mode": {
    "name": "ipython",
    "version": 2
   },
   "file_extension": ".py",
   "mimetype": "text/x-python",
   "name": "python",
   "nbconvert_exporter": "python",
   "pygments_lexer": "ipython2",
   "version": "2.7.6"
  }
 },
 "nbformat": 4,
 "nbformat_minor": 0
}
