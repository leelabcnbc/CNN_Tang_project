{
 "cells": [
  {
   "cell_type": "code",
   "execution_count": 31,
   "metadata": {
    "collapsed": true
   },
   "outputs": [],
   "source": [
    "import torch\n",
    "from pytorch_pretrained_gans import make_gan\n",
    "import numpy as np\n",
    "from modeling.models.bethge import BethgeModel\n",
    "from skimage.draw import disk\n",
    "from torchvision.transforms import CenterCrop,Resize\n",
    "from visualization_utils.optimizer import GANOptimzier\n",
    "from visualization_utils.losses import *\n",
    "from visualization_utils.utils import torch_rand_range\n",
    "\n",
    "def visualize_gan(network, gan,shape=128,\n",
    "              init_range=(-1, 1), max_iter=400, lr=np.linspace(1, 0.5, 100),\n",
    "              min_loss_val=None, target=None, debug=False):\n",
    "    \"\"\"\n",
    "    Returns:\n",
    "\n",
    "    optimized image\n",
    "    loss for the last iteration\n",
    "    \"\"\"\n",
    "    # partial application, since the index can't be passed in optimizer code\n",
    "\n",
    "    loss_func = output_loss\n",
    "    optimizer = GANOptimzier(gan, network, loss_func)\n",
    "\n",
    "    if min_loss_val is not None:\n",
    "        early_stopper = lambda losses: losses[-1] < min_loss_val\n",
    "    else:\n",
    "        early_stopper = None\n",
    "\n",
    "    # now start optimization\n",
    "    rand_vector = torch_rand_range((1,128), init_range).cuda()\n",
    "    return optimizer.optimize(rand_vector, target, max_iter=max_iter,\n",
    "                              lr=lr, debug=debug, early_stopper=early_stopper)\n",
    "def partial_grating(img, center, radius, gray=0.5,\n",
    "        background=None):\n",
    "    \"\"\"\n",
    "    put an aperture over a sine-wave grating image\n",
    "    \"\"\"\n",
    "    # outside aperture will be gray\n",
    "    # unless it's something like a diff orientation\n",
    "    if background is None:\n",
    "        new_img = torch.full(img.shape, fill_value=gray).to('cuda')\n",
    "    else:\n",
    "        new_img = background\n",
    "\n",
    "    # copy the corresponding circle of grating onto it\n",
    "    rr, cc = disk((center[0], center[1]), radius, shape=img.shape)\n",
    "    new_img[rr, cc] = img[rr, cc]\n",
    "    return new_img\n",
    "\n",
    "def image_transform(img):\n",
    "    x = img[0]\n",
    "    x = (x+1)/2\n",
    "    x = x[0] * 299/1000 + x[1] * 587/1000 + x[2] * 114/1000\n",
    "    x = CenterCrop(128)(x)\n",
    "    x = torch.reshape(x, (1,128,128))\n",
    "    x = Resize(50,antialias=True)(x)[0]\n",
    "    x = partial_grating(x, (25,25), 25, gray=0.0)\n",
    "    return x\n",
    "\n",
    "def visualize_vector(net, G, target, input_size):\n",
    "    # if multiple models are considered, then load each model one by one. Each neuron is contained in one folder, with\n",
    "    # pictures equal to the number of models\n",
    "\n",
    "\n",
    "    return vector\n",
    "\n"
   ]
  },
  {
   "cell_type": "code",
   "execution_count": 32,
   "outputs": [],
   "source": [
    "site = 'm2s1'\n",
    "num_neurons = 299\n",
    "device = torch.device('cuda' if torch.cuda.is_available() else 'cpu')\n",
    "channels = 256\n",
    "num_layers = 9\n",
    "input_size = 50\n",
    "output_size = num_neurons\n",
    "first_k = 9\n",
    "later_k = 3\n",
    "pool_size = 2\n",
    "factorized = True\n",
    "num_maps = 1\n",
    "net = BethgeModel(channels=channels, num_layers=num_layers, input_size=input_size,\n",
    "                  output_size=output_size, first_k=first_k, later_k=later_k,\n",
    "                  input_channels=1, pool_size=pool_size, factorized=True,\n",
    "                  num_maps=num_maps).cuda()\n",
    "net.to(device)\n",
    "net.load_state_dict(torch.load(f'../data/9_10_m2s1_shared_core_256_9'))\n",
    "\n",
    "val_rsp = np.load('../data/valRsp_m2s1.npy')\n",
    "val_img = np.load('../data/val_img_m2s1.npy')\n",
    "\n",
    "G = make_gan(gan_type='biggan', model_name='biggan-deep-256').to('cuda')\n",
    "G.eval()\n",
    "net.eval()\n"
   ],
   "metadata": {
    "collapsed": false
   }
  },
  {
   "cell_type": "code",
   "execution_count": 32,
   "outputs": [],
   "source": [],
   "metadata": {
    "collapsed": false
   }
  },
  {
   "cell_type": "code",
   "execution_count": 54,
   "outputs": [],
   "source": [
    "imList = []\n",
    "lossList = []\n",
    "for i in range(5):\n",
    "    vector, loss, best_loss = visualize_gan(net, G, shape=128,init_range=(-1, 1), max_iter=200, lr=np.linspace(0.001, 0.001, 500),target=torch.tensor(val_rsp[1]).to(device))\n",
    "    img = G(z=vector)\n",
    "    img = image_transform(img)\n",
    "    from PIL import Image\n",
    "    x = img.detach().cpu().numpy()\n",
    "    x = x*255\n",
    "    a = Image.fromarray(x.astype('uint8'))\n",
    "    a.show()\n",
    "    imList.append(a)\n",
    "    lossList.append(loss[-1])\n"
   ],
   "metadata": {
    "collapsed": false
   }
  },
  {
   "cell_type": "code",
   "execution_count": 29,
   "outputs": [],
   "source": [
    "for i, im in enumerate(imList):\n",
    "    im.save(f'recon_results_2/{}.jpg')"
   ],
   "metadata": {
    "collapsed": false
   }
  },
  {
   "cell_type": "code",
   "execution_count": 27,
   "outputs": [],
   "source": [
    "y = np.reshape(val_img[1], (50,50))*255\n",
    "b = Image.fromarray(y.astype('uint8'))\n",
    "b.save('cat.jpg')"
   ],
   "metadata": {
    "collapsed": false,
    "ExecuteTime": {
     "end_time": "2023-06-27T01:08:18.300893800Z",
     "start_time": "2023-06-27T01:08:18.295944700Z"
    }
   }
  },
  {
   "cell_type": "code",
   "execution_count": 44,
   "outputs": [],
   "source": [
    "z = G.sample_latent(batch_size=1,  device='cuda')\n",
    "img = G(z=z)\n",
    "img = image_transform(img)\n",
    "from PIL import Image\n",
    "x = img.detach().cpu().numpy()\n",
    "x = x*255\n",
    "a = Image.fromarray(x.astype('uint8'))\n",
    "a.show()"
   ],
   "metadata": {
    "collapsed": false
   }
  },
  {
   "cell_type": "code",
   "execution_count": 53,
   "outputs": [],
   "source": [
    "z[0,0] = z[0,1] + 0.0000001\n",
    "img = G(z=z)\n",
    "img = image_transform(img)\n",
    "from PIL import Image\n",
    "x = img.detach().cpu().numpy()\n",
    "x = x*255\n",
    "a = Image.fromarray(x.astype('uint8'))\n",
    "a.show()"
   ],
   "metadata": {
    "collapsed": false
   }
  },
  {
   "cell_type": "code",
   "execution_count": 10,
   "outputs": [],
   "source": [],
   "metadata": {
    "collapsed": false,
    "ExecuteTime": {
     "end_time": "2023-06-27T00:55:57.426243100Z",
     "start_time": "2023-06-27T00:55:57.412192500Z"
    }
   }
  },
  {
   "cell_type": "code",
   "execution_count": null,
   "outputs": [],
   "source": [],
   "metadata": {
    "collapsed": false
   }
  }
 ],
 "metadata": {
  "kernelspec": {
   "display_name": "Python 3",
   "language": "python",
   "name": "python3"
  },
  "language_info": {
   "codemirror_mode": {
    "name": "ipython",
    "version": 2
   },
   "file_extension": ".py",
   "mimetype": "text/x-python",
   "name": "python",
   "nbconvert_exporter": "python",
   "pygments_lexer": "ipython2",
   "version": "2.7.6"
  }
 },
 "nbformat": 4,
 "nbformat_minor": 0
}
