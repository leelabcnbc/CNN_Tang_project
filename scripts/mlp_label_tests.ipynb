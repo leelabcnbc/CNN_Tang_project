{
 "cells": [
  {
   "cell_type": "code",
   "execution_count": 2,
   "outputs": [],
   "source": [
    "import torch\n",
    "import torch.nn as nn\n",
    "import numpy as np\n",
    "import os\n",
    "import matplotlib.pyplot as plt\n",
    "from torch.utils.data import TensorDataset, DataLoader"
   ],
   "metadata": {
    "collapsed": false,
    "pycharm": {
     "name": "#%%\n"
    }
   }
  },
  {
   "cell_type": "code",
   "execution_count": 3,
   "outputs": [],
   "source": [
    "num_out = 2\n",
    "class label_model_CNN(torch.nn.Module):\n",
    "    def __init__(self):\n",
    "        super().__init__()\n",
    "        self.layers = nn.Sequential(\n",
    "            nn.Conv2d(in_channels=1, out_channels=30, kernel_size=(5, 5), stride=(1, 1)),\n",
    "            nn.BatchNorm2d(30),\n",
    "            nn.Sigmoid(),\n",
    "            nn.Conv2d(in_channels=30, out_channels=30, kernel_size=(5, 5), stride=(1, 1)),\n",
    "            nn.BatchNorm2d(30),\n",
    "            nn.Sigmoid(),\n",
    "            nn.Conv2d(in_channels=30, out_channels=30, kernel_size=(3, 3), stride=(1, 1)),\n",
    "            nn.BatchNorm2d(30),\n",
    "            nn.Sigmoid(),\n",
    "            nn.Conv2d(in_channels=30, out_channels=30, kernel_size=(3, 3), stride=(1, 1)),\n",
    "            nn.BatchNorm2d(30),\n",
    "            nn.Sigmoid(),\n",
    "        )\n",
    "        self.flatten = nn.Flatten()\n",
    "        self.Linear = nn.Linear(43320, num_out)\n",
    "\n",
    "    def forward(self, x):\n",
    "        x = self.layers(x)\n",
    "        x = self.flatten(x)\n",
    "        x = self.Linear(x)\n",
    "        return x\n",
    "def make_dir_try(dir):\n",
    "    try:\n",
    "        os.makedirs(dir, exist_ok=True)\n",
    "        print(\"Directory '%s' created successfully\" % dir)\n",
    "    except OSError as error:\n",
    "        print(\"Directory '%s' can not be created\" % dir)"
   ],
   "metadata": {
    "collapsed": false,
    "pycharm": {
     "name": "#%%\n"
    }
   }
  },
  {
   "cell_type": "code",
   "execution_count": 5,
   "outputs": [
    {
     "name": "stdout",
     "output_type": "stream",
     "text": [
      "0.9999736842105263\n",
      "0.00028535505\n",
      "next\n",
      "0.9997894736842106\n",
      "0.00036881707\n",
      "next\n",
      "0.999578947368421\n",
      "0.0131967375\n",
      "next\n",
      "1.0\n",
      "3.1445938e-06\n",
      "next\n",
      "1.0\n",
      "8.404595e-06\n",
      "next\n"
     ]
    }
   ],
   "source": [
    "PS_labels = np.load('../data/Processed_pattern_stimuli/labels.npy')\n",
    "def simple_index (x):\n",
    "    if x==3:\n",
    "        return 0\n",
    "    else:\n",
    "        return 1\n",
    "\n",
    "PS_labels = np.array([simple_index(x) for x in PS_labels])\n",
    "PS_labels_all = np.concatenate((PS_labels, PS_labels, PS_labels, PS_labels), 0)\n",
    "\n",
    "PS_set1 = np.load('../data/Processed_pattern_stimuli/crop_100_resize_1.npy')\n",
    "PS_set2 = np.load('../data/Processed_pattern_stimuli/crop_100_resize_2.npy')\n",
    "PS_set3 = np.load('../data/Processed_pattern_stimuli/crop_100_resize_3.npy')\n",
    "PS_set4 = np.load('../data/Processed_pattern_stimuli/crop_100_resize_4.npy')\n",
    "PS_imgs_all = np.concatenate((PS_set1, PS_set2, PS_set3, PS_set4), 0)\n",
    "all_PS_sets = [PS_imgs_all, PS_set1, PS_set2, PS_set3, PS_set4]\n",
    "all_PS_labels = [PS_labels_all, PS_labels, PS_labels, PS_labels, PS_labels]\n",
    "\n",
    "all_PS_sets = [np.reshape(p, (p.shape[0],1,50, 50)) for p in all_PS_sets]\n",
    "\n",
    "all_PS_sets = [torch.tensor(p, dtype=torch.float) for p in all_PS_sets]\n",
    "\n",
    "batchsize = 100\n",
    "for set_id, (set, labels) in enumerate(zip(all_PS_sets,all_PS_labels)):\n",
    "    train_labels = torch.tensor(labels, dtype=torch.long)\n",
    "    dataset = TensorDataset(set, train_labels)\n",
    "    loader = DataLoader(dataset, batch_size=batchsize, shuffle=False)\n",
    "\n",
    "    device = torch.device('cuda' if torch.cuda.is_available() else 'cpu')\n",
    "    model = label_model_CNN()\n",
    "    model = model.to(device)\n",
    "    model.load_state_dict(torch.load('A:/school/College_Junior/research/CNN_Tang_project/saved_models/PS_labeling_model_CNN_CV' + str(set_id)))\n",
    "    model.eval()\n",
    "    criterion = nn.CrossEntropyLoss()\n",
    "    with torch.no_grad():\n",
    "        percent = 0\n",
    "        losses = []\n",
    "        for x, y in loader:\n",
    "            x = x.to(device)\n",
    "            y = y.to(device)\n",
    "            out = model(x)\n",
    "            loss = criterion(out, y).detach().cpu().numpy()\n",
    "            losses.append(loss)\n",
    "            predict = torch.argmax(out, 1)\n",
    "            for pp,yy in zip(predict,y):\n",
    "                if pp == yy:\n",
    "                    percent += 1\n",
    "        percent /= set.shape[0]\n",
    "        print(percent)\n",
    "        print(np.mean(np.array(loss)))\n",
    "        print('next')"
   ],
   "metadata": {
    "collapsed": false,
    "pycharm": {
     "name": "#%%\n"
    }
   }
  },
  {
   "cell_type": "code",
   "execution_count": null,
   "outputs": [
    {
     "name": "stdout",
     "output_type": "stream",
     "text": [
      "Directory 'A:/school/College_Junior/research/CNN_Tang_project/analysis/labeling/PS_CNN_CV_cut/PS_model_set_0/m1s1/' created successfully\n",
      "Directory 'A:/school/College_Junior/research/CNN_Tang_project/analysis/labeling/PS_CNN_CV_cut/PS_model_set_0/m1s2/' created successfully\n",
      "Directory 'A:/school/College_Junior/research/CNN_Tang_project/analysis/labeling/PS_CNN_CV_cut/PS_model_set_0/m1s3/' created successfully\n",
      "Directory 'A:/school/College_Junior/research/CNN_Tang_project/analysis/labeling/PS_CNN_CV_cut/PS_model_set_0/m2s1/' created successfully\n"
     ]
    }
   ],
   "source": [
    "#sites = [ 'm1s1', 'm1s2', 'm1s3','m2s1', 'm2s2', 'm3s1']\n",
    "sites = [ 'm2s1']\n",
    "#label_names = ['SS', 'EB', 'CN', 'CV', 'CRS', 'Other']\n",
    "label_names = ['CV', 'OTHER']\n",
    "for model_idx in range(5):\n",
    "    device = torch.device('cuda' if torch.cuda.is_available() else 'cpu')\n",
    "    model = label_model_CNN()\n",
    "    model = model.to(device)\n",
    "    model.load_state_dict(torch.load('A:/school/College_Junior/research/CNN_Tang_project/saved_models/PS_labeling_model_CNN_CV_cut' + str(model_idx)))\n",
    "\n",
    "    for site in sites:\n",
    "        dir = 'A:/school/College_Junior/research/CNN_Tang_project/analysis/labeling/PS_CNN_CV_cut/' + 'PS_model_set_'+ str(model_idx) + '/' + site + '/'\n",
    "        make_dir_try(dir)\n",
    "        val_y = np.load('../data/Processed_Tang_data/all_sites_data_prepared/New_response_data/valRsp_' + site + '.npy')\n",
    "        num_neurons = val_y.shape[1]\n",
    "        for neuron in range(num_neurons):\n",
    "            vis_img = plt.imread(\"../analysis/Visualization/Shared_Core_avg_border_vis/\"+site+\"/\" + str(neuron) + '.jpg')\n",
    "            img = np.reshape(vis_img,(1,1,50,50))\n",
    "            input_tensor = torch.FloatTensor(img)\n",
    "            x = input_tensor.to(device)\n",
    "            out = model(x)\n",
    "            predict = torch.argmax(out).detach().cpu().numpy().astype(int)\n",
    "            label_name = label_names[predict]\n",
    "            plt.imsave(dir+str(neuron)+'_'+label_name + '.png',vis_img, cmap='gray')"
   ],
   "metadata": {
    "collapsed": false,
    "pycharm": {
     "name": "#%%\n",
     "is_executing": true
    }
   }
  },
  {
   "cell_type": "code",
   "execution_count": 6,
   "outputs": [
    {
     "name": "stdout",
     "output_type": "stream",
     "text": [
      "Directory 'A:/school/College_Junior/research/CNN_Tang_project/analysis/labeling/PS_CNN_CV_cut_use_ps/PS_model_set_0/m2s1/' created successfully\n",
      "Directory 'A:/school/College_Junior/research/CNN_Tang_project/analysis/labeling/PS_CNN_CV_cut_use_ps/PS_model_set_1/m2s1/' created successfully\n",
      "Directory 'A:/school/College_Junior/research/CNN_Tang_project/analysis/labeling/PS_CNN_CV_cut_use_ps/PS_model_set_2/m2s1/' created successfully\n",
      "Directory 'A:/school/College_Junior/research/CNN_Tang_project/analysis/labeling/PS_CNN_CV_cut_use_ps/PS_model_set_3/m2s1/' created successfully\n",
      "Directory 'A:/school/College_Junior/research/CNN_Tang_project/analysis/labeling/PS_CNN_CV_cut_use_ps/PS_model_set_4/m2s1/' created successfully\n"
     ]
    }
   ],
   "source": [
    "label_names = ['CV', 'OTHER']\n",
    "imgs = np.load('../data/m2s1_psWS.npy')\n",
    "for model_idx in range(5):\n",
    "    device = torch.device('cuda' if torch.cuda.is_available() else 'cpu')\n",
    "    model = label_model_CNN()\n",
    "    model = model.to(device)\n",
    "    model.load_state_dict(torch.load('A:/school/College_Junior/research/CNN_Tang_project/saved_models/PS_labeling_model_CNN_CV_cut' + str(model_idx)))\n",
    "\n",
    "    dir = 'A:/school/College_Junior/research/CNN_Tang_project/analysis/labeling/PS_CNN_CV_cut_use_ps/' + 'PS_model_set_'+ str(model_idx) + '/' + 'm2s1' + '/'\n",
    "    make_dir_try(dir)\n",
    "    for i, vis_img in enumerate(imgs):\n",
    "\n",
    "        img = np.reshape(vis_img,(1,1,50,50))\n",
    "        input_tensor = torch.FloatTensor(img)\n",
    "        x = input_tensor.to(device)\n",
    "        out = model(x)\n",
    "        predict = torch.argmax(out).detach().cpu().numpy().astype(int)\n",
    "        label_name = label_names[predict]\n",
    "        plt.imsave(dir+str(i)+'_'+label_name + '.png',vis_img, cmap='gray')"
   ],
   "metadata": {
    "collapsed": false,
    "pycharm": {
     "name": "#%%\n"
    }
   }
  }
 ],
 "metadata": {
  "kernelspec": {
   "name": "pycharm-4abebbf4",
   "language": "python",
   "display_name": "PyCharm (hw2p2)"
  },
  "language_info": {
   "codemirror_mode": {
    "name": "ipython",
    "version": 2
   },
   "file_extension": ".py",
   "mimetype": "text/x-python",
   "name": "python",
   "nbconvert_exporter": "python",
   "pygments_lexer": "ipython2",
   "version": "2.7.6"
  }
 },
 "nbformat": 4,
 "nbformat_minor": 0
}