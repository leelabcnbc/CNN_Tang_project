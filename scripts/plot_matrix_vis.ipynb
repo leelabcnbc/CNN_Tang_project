{
 "cells": [
  {
   "cell_type": "code",
   "execution_count": 8,
   "metadata": {
    "collapsed": true
   },
   "outputs": [
    {
     "name": "stdout",
     "output_type": "stream",
     "text": [
      "There are  302  files in this directory\n",
      "There are  330  files in this directory\n",
      "There are  175  files in this directory\n",
      "There are  299  files in this directory\n",
      "There are  259  files in this directory\n",
      "There are  324  files in this directory\n"
     ]
    }
   ],
   "source": [
    "from GS_functions import *\n",
    "from cv2 import imwrite\n",
    "def img2matrix(imgmainpath,suffix='.png'):\n",
    "    '''\n",
    "    make sure all imgs are the same size\n",
    "    '''\n",
    "    pathlist=GF.filelist_suffix(imgmainpath,suffix)\n",
    "    im_shape=np.array(PIL.Image.open(f\"{imgmainpath}/{pathlist[0]}\").convert('L')).shape[0]\n",
    "    im_matrix=np.zeros((len(pathlist),im_shape,im_shape))\n",
    "    for i in range(len(pathlist)):\n",
    "        # print('Change img:',i+1)\n",
    "        im_matrix[i,:,:]= np.array(PIL.Image.open(f\"{imgmainpath}/{pathlist[i]}\").convert('L'))\n",
    "\n",
    "    return im_matrix\n",
    "\n",
    "def show_imgs_in1Page(img_matrix,cmap='gray',showsize=(10,10),columns=None,rows=None,padding=False,title=None):\n",
    "    '''\n",
    "    shape: (numbers,H,W)\n",
    "    '''\n",
    "\n",
    "    assert len(img_matrix.shape)==3\n",
    "    assert isinstance(showsize,tuple)\n",
    "\n",
    "    return imshowtools.imshow(*img_matrix,cmap=cmap,size=showsize,columns=columns,rows=rows,padding=padding,title=title,return_image=True)\n",
    "\n",
    "sites = [ 'm1s1', 'm1s2', 'm1s3','m2s1', 'm2s2', 'm3s1']\n",
    "for site in sites:\n",
    "    dir = 'A:/school/College_Junior/research/CNN_Tang_project/analysis/Visualization/Shared_Core_avg_border_vis/' + site + '/'\n",
    "    matrix = img2matrix(dir,'.jpg')\n",
    "\n",
    "    img = show_imgs_in1Page(matrix, cmap='gray',showsize=(50,50),columns=20,rows=17)\n",
    "    imwrite(site+\".png\", img)"
   ]
  }
 ],
 "metadata": {
  "kernelspec": {
   "display_name": "Python 3",
   "language": "python",
   "name": "python3"
  },
  "language_info": {
   "codemirror_mode": {
    "name": "ipython",
    "version": 2
   },
   "file_extension": ".py",
   "mimetype": "text/x-python",
   "name": "python",
   "nbconvert_exporter": "python",
   "pygments_lexer": "ipython2",
   "version": "2.7.6"
  }
 },
 "nbformat": 4,
 "nbformat_minor": 0
}