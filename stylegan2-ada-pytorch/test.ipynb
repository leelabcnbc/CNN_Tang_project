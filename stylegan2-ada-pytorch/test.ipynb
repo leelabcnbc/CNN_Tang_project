{
 "cells": [
  {
   "cell_type": "code",
   "execution_count": 6,
   "metadata": {
    "collapsed": true,
    "ExecuteTime": {
     "end_time": "2023-07-09T10:26:58.041710400Z",
     "start_time": "2023-07-09T10:26:56.692990800Z"
    }
   },
   "outputs": [],
   "source": [
    "import pickle\n",
    "import torch\n",
    "from torchvision.transforms import CenterCrop,Resize"
   ]
  },
  {
   "cell_type": "code",
   "execution_count": 2,
   "outputs": [],
   "source": [
    "with open('cifar10.pkl', 'rb') as f:\n",
    "    G = pickle.load(f)['G_ema'].cuda()  # torch.nn.Module\n",
    "   # latent codes\n",
    "c = None                                # class labels (not used in this example)\n",
    "                      # NCHW, float32, dynamic range [-1, +1]"
   ],
   "metadata": {
    "collapsed": false,
    "ExecuteTime": {
     "end_time": "2023-07-09T09:18:00.961998700Z",
     "start_time": "2023-07-09T09:17:57.135669100Z"
    }
   }
  },
  {
   "cell_type": "code",
   "execution_count": 38,
   "outputs": [],
   "source": [
    "z = torch.randn([1,8, G.w_dim]).cuda()"
   ],
   "metadata": {
    "collapsed": false,
    "ExecuteTime": {
     "end_time": "2023-07-09T11:14:53.027522400Z",
     "start_time": "2023-07-09T11:14:53.022427400Z"
    }
   }
  },
  {
   "cell_type": "code",
   "execution_count": 39,
   "outputs": [],
   "source": [
    "import PIL.Image\n",
    "img = G.synthesis(z)\n",
    "x = Resize(50,antialias=True)(img)[0]\n",
    "x = x[0] * 299 / 1000 + x[1] * 587 / 1000 + x[2] * 114 / 1000"
   ],
   "metadata": {
    "collapsed": false,
    "ExecuteTime": {
     "end_time": "2023-07-09T11:14:53.043520200Z",
     "start_time": "2023-07-09T11:14:53.027522400Z"
    }
   }
  },
  {
   "cell_type": "code",
   "execution_count": 40,
   "outputs": [],
   "source": [
    "x = (x* 127.5 + 128).clamp(0, 255).to(torch.uint8)\n",
    "\n",
    "x = PIL.Image.fromarray(x.cpu().numpy(), 'L')\n",
    "x.show()"
   ],
   "metadata": {
    "collapsed": false
   }
  },
  {
   "cell_type": "code",
   "execution_count": 5,
   "outputs": [],
   "source": [
    "z *= 0.5\n",
    "img = G.synthesis(z)\n",
    "img = (img.permute(0, 2, 3, 1) * 127.5 + 128).clamp(0, 255).to(torch.uint8)\n",
    "img = PIL.Image.fromarray(img[0].cpu().numpy(), 'RGB')\n",
    "img.show()"
   ],
   "metadata": {
    "collapsed": false,
    "ExecuteTime": {
     "end_time": "2023-07-09T09:19:21.433520200Z",
     "start_time": "2023-07-09T09:19:10.690941500Z"
    }
   }
  },
  {
   "cell_type": "code",
   "execution_count": 23,
   "outputs": [],
   "source": [],
   "metadata": {
    "collapsed": false,
    "ExecuteTime": {
     "end_time": "2023-07-05T18:10:38.108320900Z",
     "start_time": "2023-07-05T18:10:38.102271Z"
    }
   }
  },
  {
   "cell_type": "code",
   "execution_count": null,
   "outputs": [],
   "source": [],
   "metadata": {
    "collapsed": false
   }
  }
 ],
 "metadata": {
  "kernelspec": {
   "display_name": "Python 3",
   "language": "python",
   "name": "python3"
  },
  "language_info": {
   "codemirror_mode": {
    "name": "ipython",
    "version": 2
   },
   "file_extension": ".py",
   "mimetype": "text/x-python",
   "name": "python",
   "nbconvert_exporter": "python",
   "pygments_lexer": "ipython2",
   "version": "2.7.6"
  }
 },
 "nbformat": 4,
 "nbformat_minor": 0
}
