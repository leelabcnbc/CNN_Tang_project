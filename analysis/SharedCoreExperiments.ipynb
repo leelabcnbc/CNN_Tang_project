{
 "cells": [
  {
   "cell_type": "code",
   "execution_count": 1,
   "metadata": {
    "collapsed": true
   },
   "outputs": [],
   "source": [
    "import torch\n",
    "import numpy as np\n",
    "from tqdm import tqdm\n",
    "import matplotlib.pyplot as plt\n",
    "from modeling.models.bethge import BethgeModel\n",
    "from modeling.train_utils import array_to_dataloader\n",
    "from scipy.stats import spearmanr\n",
    "from scripts.visualize_SharedCore import visualize_neuron\n",
    "from scipy import optimize\n",
    "import os"
   ]
  },
  {
   "cell_type": "code",
   "execution_count": 2,
   "outputs": [
    {
     "data": {
      "text/plain": "<All keys matched successfully>"
     },
     "execution_count": 2,
     "metadata": {},
     "output_type": "execute_result"
    }
   ],
   "source": [
    "site = 'm2s1'\n",
    "nb_validation_samples = 1000\n",
    "nb_training_samples = 49000\n",
    "\n",
    "batch_size = 2048\n",
    "\n",
    "train_y = np.load('D:/school/research/CNN_Tang_project/data/Processed_Tang_data/all_sites_data_prepared/New_response_data/trainRsp_'+site+'.npy')\n",
    "num_neurons = train_y.shape[1]\n",
    "device = torch.device('cuda' if torch.cuda.is_available() else 'cpu')\n",
    "\n",
    "channels = 256\n",
    "num_layers = 9\n",
    "input_size = 50\n",
    "output_size = num_neurons\n",
    "first_k = 9\n",
    "later_k = 3\n",
    "pool_size = 2\n",
    "factorized = True\n",
    "\n",
    "num_maps = 1\n",
    "\n",
    "net = BethgeModel(channels=channels, num_layers=num_layers, input_size=input_size,\n",
    "                  output_size=output_size, first_k=first_k, later_k=later_k,\n",
    "                  input_channels=1, pool_size=pool_size, factorized=True,\n",
    "                  num_maps=num_maps).cuda()\n",
    "\n",
    "net.to(device)\n",
    "net.load_state_dict(torch.load(f'D:/school/research/CNN_Tang_project/saved_models/new_learned_models/{site}_9_model_version_0'))"
   ],
   "metadata": {
    "collapsed": false
   }
  },
  {
   "cell_type": "code",
   "execution_count": 12,
   "outputs": [],
   "source": [
    "data = np.load('D:/school/research/CNN_Tang_project/data/JFtextures_crop240_finalsize50_allcombine.npy', allow_pickle=True).item()"
   ],
   "metadata": {
    "collapsed": false
   }
  },
  {
   "cell_type": "code",
   "execution_count": 18,
   "outputs": [
    {
     "name": "stderr",
     "output_type": "stream",
     "text": [
      "100%|██████████| 450/450 [00:02<00:00, 177.01it/s]\n"
     ]
    }
   ],
   "source": [
    "imgSet = np.reshape(data['allimgs'], (450,1,50,50))\n",
    "from torch.utils.data import TensorDataset, DataLoader\n",
    "imgloader = DataLoader(TensorDataset(torch.FloatTensor(imgSet)))\n",
    "rsp = []\n",
    "for img in tqdm(imgloader):\n",
    "    x = img[0].to(device)\n",
    "    outputs = net(x).detach().cpu().numpy()\n",
    "    rsp.extend(outputs)\n"
   ],
   "metadata": {
    "collapsed": false
   }
  },
  {
   "cell_type": "code",
   "execution_count": 21,
   "outputs": [
    {
     "name": "stdout",
     "output_type": "stream",
     "text": [
      "[[0.03555888 0.04184179 0.03092879 ... 0.06335369 0.20503747 0.0578519 ]\n",
      " [0.05834064 0.04676326 0.03672788 ... 0.07911143 0.22036076 0.08286642]\n",
      " [0.03068896 0.03478478 0.02315166 ... 0.04938272 0.17474112 0.07002813]\n",
      " ...\n",
      " [0.06221464 0.06886823 0.04302642 ... 0.11206459 0.25097632 0.07389782]\n",
      " [0.03294101 0.04399563 0.03126695 ... 0.06424507 0.12991707 0.04160488]\n",
      " [0.03111311 0.04805603 0.0254949  ... 0.05892004 0.1422931  0.05985096]]\n"
     ]
    }
   ],
   "source": [
    "rsp = np.array(rsp)\n",
    "print(rsp)"
   ],
   "metadata": {
    "collapsed": false
   }
  },
  {
   "cell_type": "code",
   "execution_count": 22,
   "outputs": [
    {
     "data": {
      "text/plain": "(array([[447.,   3.,   0., ...,   0.,   0.,   0.],\n        [441.,   9.,   0., ...,   0.,   0.,   0.],\n        [450.,   0.,   0., ...,   0.,   0.,   0.],\n        ...,\n        [344., 106.,   0., ...,   0.,   0.,   0.],\n        [  3., 117., 236., ...,   0.,   0.,   0.],\n        [361.,  89.,   0., ...,   0.,   0.,   0.]]),\n array([0.00289336, 0.07734877, 0.15180418, 0.22625959, 0.300715  ,\n        0.3751704 , 0.4496258 , 0.52408123, 0.5985366 , 0.67299205,\n        0.74744743], dtype=float32),\n <a list of 299 BarContainer objects>)"
     },
     "execution_count": 22,
     "metadata": {},
     "output_type": "execute_result"
    },
    {
     "data": {
      "text/plain": "<Figure size 640x480 with 1 Axes>",
      "image/png": "[encoded data removed]"
     },
     "metadata": {},
     "output_type": "display_data"
    }
   ],
   "source": [
    "plt.hist(rsp)"
   ],
   "metadata": {
    "collapsed": false
   }
  },
  {
   "cell_type": "code",
   "execution_count": 23,
   "outputs": [],
   "source": [
    "np.save(\"textureRsp\", rsp)"
   ],
   "metadata": {
    "collapsed": false
   }
  },
  {
   "cell_type": "code",
   "execution_count": null,
   "outputs": [],
   "source": [],
   "metadata": {
    "collapsed": false
   }
  }
 ],
 "metadata": {
  "kernelspec": {
   "display_name": "Python 3",
   "language": "python",
   "name": "python3"
  },
  "language_info": {
   "codemirror_mode": {
    "name": "ipython",
    "version": 2
   },
   "file_extension": ".py",
   "mimetype": "text/x-python",
   "name": "python",
   "nbconvert_exporter": "python",
   "pygments_lexer": "ipython2",
   "version": "2.7.6"
  }
 },
 "nbformat": 4,
 "nbformat_minor": 0
}
