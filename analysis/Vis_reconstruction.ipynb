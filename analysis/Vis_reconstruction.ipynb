{
 "cells": [
  {
   "cell_type": "code",
   "execution_count": 1,
   "metadata": {
    "collapsed": true
   },
   "outputs": [],
   "source": [
    "import torch\n",
    "import numpy as np\n",
    "from tqdm import tqdm\n",
    "import matplotlib.pyplot as plt\n",
    "from modeling.models.bethge import BethgeModel\n",
    "from modeling.train_utils import array_to_dataloader\n",
    "from scipy.stats import spearmanr\n",
    "from scripts.visualize_SharedCore import visualize_target\n",
    "from scipy import optimize\n",
    "import os\n",
    "import cv2"
   ]
  },
  {
   "cell_type": "code",
   "execution_count": 14,
   "outputs": [],
   "source": [
    "site = 'm2s1'\n",
    "nb_validation_samples = 1000\n",
    "nb_training_samples = 49000\n",
    "\n",
    "batch_size = 2048\n",
    "\n",
    "train_y = np.load('A:/school/College_Junior/research/CNN_Tang_project/data/Processed_Tang_data/all_sites_data_prepared/New_response_data/trainRsp_'+site+'.npy')\n",
    "num_neurons = train_y.shape[1]\n",
    "device = torch.device('cuda' if torch.cuda.is_available() else 'cpu')\n",
    "\n",
    "channels = 256\n",
    "num_layers = 9\n",
    "input_size = 50\n",
    "output_size = num_neurons\n",
    "first_k = 9\n",
    "later_k = 3\n",
    "pool_size = 2\n",
    "factorized = True\n",
    "\n",
    "num_maps = 1\n",
    "\n",
    "net = BethgeModel(channels=channels, num_layers=num_layers, input_size=input_size,\n",
    "                  output_size=output_size, first_k=first_k, later_k=later_k,\n",
    "                  input_channels=1, pool_size=pool_size, factorized=True,\n",
    "                  num_maps=num_maps).cuda()\n",
    "\n",
    "net.to(device)\n",
    "net.load_state_dict(torch.load('A:/school/College_Junior/research/CNN_Tang_project/saved_models/Sample_size_test_models/9_10_'+site+'_shared_core_256_9'))\n",
    "\n",
    "fc_layer = net.fc[0].bank[0]"
   ],
   "metadata": {
    "collapsed": false,
    "pycharm": {
     "name": "#%%\n"
    }
   }
  },
  {
   "cell_type": "code",
   "execution_count": 3,
   "outputs": [],
   "source": [
    "feature_w = fc_layer.weight_feature.data\n",
    "spatial_w = fc_layer.weight_spatial.data\n",
    "spatial_w_np = spatial_w.detach().cpu().numpy()\n",
    "\n",
    "for i, w in enumerate(spatial_w):\n",
    "    w[:8,:] = 0\n",
    "    w[:,13:] = 0\n",
    "    w[13:,:] = 0\n",
    "    w[:,:8] = 0\n",
    "    spatial_w[i] = w\n",
    "\n",
    "net.fc[0].bank[0].weight_spatial.data = spatial_w"
   ],
   "metadata": {
    "collapsed": false,
    "pycharm": {
     "name": "#%%\n"
    }
   }
  },
  {
   "cell_type": "code",
   "execution_count": 4,
   "outputs": [
    {
     "name": "stdout",
     "output_type": "stream",
     "text": [
      "Directory 'A:/school/College_Junior/research/CNN_Tang_project/analysis/Visualization/reconstruction_256_9' created successfully\n"
     ]
    }
   ],
   "source": [
    "def make_dir_try(dir):\n",
    "    try:\n",
    "        os.makedirs(dir, exist_ok=True)\n",
    "        print(\"Directory '%s' created successfully\" % dir)\n",
    "    except OSError as error:\n",
    "        print(\"Directory '%s' can not be created\" % dir)\n",
    "directory = 'A:/school/College_Junior/research/CNN_Tang_project/analysis/Visualization/reconstruction_'+str(channels)+'_'+str(num_layers)\n",
    "make_dir_try(directory)"
   ],
   "metadata": {
    "collapsed": false,
    "pycharm": {
     "name": "#%%\n"
    }
   }
  },
  {
   "cell_type": "code",
   "execution_count": 15,
   "outputs": [
    {
     "name": "stdout",
     "output_type": "stream",
     "text": [
      "BatchNorm2d(1, eps=1e-05, momentum=0.1, affine=True, track_running_stats=True)\n"
     ]
    },
    {
     "name": "stderr",
     "output_type": "stream",
     "text": [
      "Lossy conversion from float32 to uint8. Range [0.0, 256.0]. Convert image to uint8 prior to saving to suppress this warning.\n"
     ]
    }
   ],
   "source": [
    "val_img = np.load('A:/school/College_Junior/research/CNN_Tang_project/data/Processed_Tang_data/all_sites_data_prepared/pics_data/val_img_m2s1.npy')\n",
    "val_rsp = np.load('A:/school/College_Junior/research/CNN_Tang_project/data/Processed_Tang_data/all_sites_data_prepared/New_response_data/valRsp_m2s1.npy')\n",
    "net.eval()\n",
    "with torch.no_grad():\n",
    "    img = np.reshape(val_img[0],(1,1,50,50))\n",
    "    img = torch.FloatTensor(img).to(device)\n",
    "    target = net(img)\n",
    "visualize_target(target, input_size, net, directory, save=True)"
   ],
   "metadata": {
    "collapsed": false,
    "pycharm": {
     "name": "#%%\n"
    }
   }
  }
 ],
 "metadata": {
  "kernelspec": {
   "display_name": "Python 3",
   "language": "python",
   "name": "python3"
  },
  "language_info": {
   "codemirror_mode": {
    "name": "ipython",
    "version": 2
   },
   "file_extension": ".py",
   "mimetype": "text/x-python",
   "name": "python",
   "nbconvert_exporter": "python",
   "pygments_lexer": "ipython2",
   "version": "2.7.6"
  }
 },
 "nbformat": 4,
 "nbformat_minor": 0
}