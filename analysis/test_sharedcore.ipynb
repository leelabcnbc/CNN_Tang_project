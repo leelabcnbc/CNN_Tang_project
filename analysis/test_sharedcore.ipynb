{
 "cells": [
  {
   "cell_type": "code",
   "execution_count": null,
   "metadata": {
    "collapsed": true,
    "pycharm": {
     "is_executing": true
    }
   },
   "outputs": [],
   "source": [
    "import torch\n",
    "import numpy as np\n",
    "from tqdm import tqdm\n",
    "import matplotlib.pyplot as plt\n",
    "from modeling.models.bethge import BethgeModel\n",
    "from modeling.train_utils import array_to_dataloader\n",
    "from scipy.stats import spearmanr\n",
    "from scripts.visualize_SharedCore import visualize_neuron\n",
    "from scipy import optimize\n",
    "import os"
   ]
  },
  {
   "cell_type": "code",
   "execution_count": null,
   "outputs": [],
   "source": [
    "def make_dir_try(dir):\n",
    "    try:\n",
    "        os.makedirs(dir, exist_ok=True)\n",
    "        print(\"Directory '%s' created successfully\" % dir)\n",
    "    except OSError as error:\n",
    "        print(\"Directory '%s' can not be created\" % dir)"
   ],
   "metadata": {
    "collapsed": false,
    "pycharm": {
     "is_executing": true
    }
   }
  },
  {
   "cell_type": "code",
   "execution_count": null,
   "outputs": [],
   "source": [
    "site = 'm2s1'\n",
    "nb_validation_samples = 1000\n",
    "nb_training_samples = 49000\n",
    "\n",
    "batch_size = 2048\n",
    "\n",
    "train_y = np.load('A:/school/research/CNN_Tang_project/data/Processed_Tang_data/all_sites_data_prepared/New_response_data/trainRsp_'+site+'.npy')\n",
    "num_neurons = train_y.shape[1]\n",
    "device = torch.device('cuda' if torch.cuda.is_available() else 'cpu')\n",
    "\n",
    "channels = 256\n",
    "num_layers = 9\n",
    "input_size = 50\n",
    "output_size = num_neurons\n",
    "first_k = 9\n",
    "later_k = 3\n",
    "pool_size = 2\n",
    "factorized = True\n",
    "\n",
    "num_maps = 1\n",
    "\n",
    "net = BethgeModel(channels=channels, num_layers=num_layers, input_size=input_size,\n",
    "                  output_size=output_size, first_k=first_k, later_k=later_k,\n",
    "                  input_channels=1, pool_size=pool_size, factorized=True,\n",
    "                  num_maps=num_maps).cuda()\n",
    "\n",
    "net.to(device)\n",
    "net.load_state_dict(torch.load('D:/school/research/CNN_Tang_project/saved_models/new_learned_models/m2s1_9_model_version_0'))\n",
    "\n",
    "fc_layer = net.fc[0].bank[0]"
   ],
   "metadata": {
    "collapsed": false,
    "pycharm": {
     "is_executing": true
    }
   }
  },
  {
   "cell_type": "code",
   "execution_count": 3,
   "outputs": [],
   "source": [
    "def gaussian(height, center_x, center_y, width_x, width_y):\n",
    "    \"\"\"Returns a gaussian function with the given parameters\"\"\"\n",
    "    width_x = float(width_x)\n",
    "    width_y = float(width_y)\n",
    "    return lambda x,y: height*np.exp(\n",
    "                -(((center_x-x)/width_x)**2+((center_y-y)/width_y)**2)/2)\n",
    "\n",
    "def moments(data):\n",
    "    \"\"\"Returns (height, x, y, width_x, width_y)\n",
    "    the gaussian parameters of a 2D distribution by calculating its\n",
    "    moments \"\"\"\n",
    "    total = data.sum()\n",
    "    X, Y = np.indices(data.shape)\n",
    "    x = (X*data).sum()/total\n",
    "    y = (Y*data).sum()/total\n",
    "    col = data[:, int(y)]\n",
    "    width_x = np.sqrt(np.abs((np.arange(col.size)-x)**2*col).sum()/col.sum())\n",
    "    row = data[int(x), :]\n",
    "    width_y = np.sqrt(np.abs((np.arange(row.size)-y)**2*row).sum()/row.sum())\n",
    "    height = data.max()\n",
    "    return height, x, y, width_x, width_y\n",
    "\n",
    "def fitgaussian(data):\n",
    "    \"\"\"Returns (height, x, y, width_x, width_y)\n",
    "    the gaussian parameters of a 2D distribution found by a fit\"\"\"\n",
    "    params = moments(data)\n",
    "    errorfunction = lambda p: np.ravel(gaussian(*p)(*np.indices(data.shape)) -\n",
    "                                 data)\n",
    "    p, success = optimize.leastsq(errorfunction, params)\n",
    "    return p"
   ],
   "metadata": {
    "collapsed": false
   }
  },
  {
   "cell_type": "code",
   "execution_count": 4,
   "outputs": [],
   "source": [
    "feature_w = fc_layer.weight_feature.data\n",
    "spatial_w = fc_layer.weight_spatial.data\n",
    "spatial_w_np = spatial_w.detach().cpu().numpy()"
   ],
   "metadata": {
    "collapsed": false
   }
  },
  {
   "cell_type": "code",
   "execution_count": 50,
   "outputs": [],
   "source": [
    "for i, w in enumerate(spatial_w):\n",
    "    w[:8,:] = 0\n",
    "    w[:,13:] = 0\n",
    "    w[13:,:] = 0\n",
    "    w[:,:8] = 0\n",
    "    spatial_w[i] = w\n",
    "\n",
    "net.fc[0].bank[0].weight_spatial.data = spatial_w"
   ],
   "metadata": {
    "collapsed": false
   }
  },
  {
   "cell_type": "code",
   "execution_count": 15,
   "outputs": [],
   "source": [
    "#this time set center to 0\n",
    "for i, w in enumerate(spatial_w):\n",
    "    w[8:13,8:13]  = 0\n",
    "    spatial_w[i] = w\n",
    "\n",
    "net.fc[0].bank[0].weight_spatial.data = spatial_w"
   ],
   "metadata": {
    "collapsed": false
   }
  },
  {
   "cell_type": "code",
   "execution_count": 5,
   "outputs": [],
   "source": [
    "def make_dir_try(dir):\n",
    "    try:\n",
    "        os.makedirs(dir, exist_ok=True)\n",
    "        print(\"Directory '%s' created successfully\" % dir)\n",
    "    except OSError as error:\n",
    "        print(\"Directory '%s' can not be created\" % dir)\n",
    "site = 'm2s1'"
   ],
   "metadata": {
    "collapsed": false
   }
  },
  {
   "cell_type": "code",
   "execution_count": 40,
   "outputs": [],
   "source": [
    "directory_base = '/Graphs/no_center/'+site+'/'\n",
    "#make_dir_try(directory_base)\n",
    "all_width_x = []\n",
    "all_width_y = []\n",
    "for neuron in range(num_neurons):\n",
    "    data = spatial_w_np[neuron]\n",
    "    data = np.abs(cv2.resize(data, (50, 50)))\n",
    "    # plt.figure(neuron)\n",
    "    #\n",
    "    # plt.matshow(data, cmap=plt.cm.gist_earth_r)\n",
    "\n",
    "    params = fitgaussian(data)\n",
    "    fit = gaussian(*params)\n",
    "\n",
    "    ct_data = np.indices(data.shape)\n",
    "    ct_z = fit(*ct_data)\n",
    "    #levels = [0.2, 0.4, 0.6, 0.8, 1.0]\n",
    "    # contour the gridded data, plotting dots at the randomly spaced data points.\n",
    "\n",
    "    # plt.contour(ct_z,linewidths=0.5,colors='k')\n",
    "    # #plt.contour(ct_z, cmap=plt.cm.copper)\n",
    "    # ax = plt.gca()\n",
    "    (height, x, y, width_x, width_y) = params\n",
    "    all_width_x.append(width_x)\n",
    "    all_width_y.append(width_y)\n",
    "    # plt.text(0.95, 0.05, \"\"\"\n",
    "    # x : %.1f\n",
    "    # y : %.1f\n",
    "    # width_x : %.1f\n",
    "    # width_y : %.1f\"\"\" %(x, y, width_x, width_y),\n",
    "    #         fontsize=16, horizontalalignment='right',\n",
    "    #         verticalalignment='bottom', transform=ax.transAxes)\n",
    "    # directory = directory_base+str(neuron)+'.jpg'\n",
    "    # plt.savefig(directory)"
   ],
   "metadata": {
    "collapsed": false
   }
  },
  {
   "cell_type": "code",
   "execution_count": 41,
   "outputs": [
    {
     "data": {
      "text/plain": "<Figure size 432x288 with 1 Axes>",
      "image/png": "[encoded data removed]"
     },
     "metadata": {
      "needs_background": "light"
     },
     "output_type": "display_data"
    },
    {
     "data": {
      "text/plain": "<Figure size 432x288 with 1 Axes>",
      "image/png": "[encoded data removed]"
     },
     "metadata": {
      "needs_background": "light"
     },
     "output_type": "display_data"
    }
   ],
   "source": [
    "plt.figure()\n",
    "plt.hist(all_width_x, bins=20)\n",
    "plt.savefig('Graphs/std_receptive_size_histogram_x')\n",
    "plt.figure()\n",
    "plt.hist(all_width_y, bins=20)\n",
    "plt.savefig('Graphs/std_receptive_size_histogram_y')\n",
    "\n",
    "np.save('width_x_'+site,all_width_x)\n",
    "np.save('width_y_'+site,all_width_y)"
   ],
   "metadata": {
    "collapsed": false
   }
  },
  {
   "cell_type": "code",
   "execution_count": 34,
   "outputs": [
    {
     "data": {
      "text/plain": "<Figure size 432x288 with 1 Axes>",
      "image/png": "[encoded data removed]"
     },
     "metadata": {
      "needs_background": "light"
     },
     "output_type": "display_data"
    },
    {
     "data": {
      "text/plain": "<Figure size 432x288 with 1 Axes>",
      "image/png": "[encoded data removed]"
     },
     "metadata": {
      "needs_background": "light"
     },
     "output_type": "display_data"
    }
   ],
   "source": [
    "filtered_width_x = []\n",
    "filtered_width_y = []\n",
    "for x in all_width_x:\n",
    "    if x < 10:\n",
    "        filtered_width_x.append(x)\n",
    "for y in all_width_y:\n",
    "    if y < 10:\n",
    "        filtered_width_y.append(y)\n",
    "plt.figure()\n",
    "plt.hist(filtered_width_x, bins=20)\n",
    "plt.savefig('Graphs/std_receptive_size_histogram_x_filtered')\n",
    "plt.figure()\n",
    "plt.hist(filtered_width_y, bins=20)\n",
    "plt.savefig('Graphs/std_receptive_size_histogram_y_filtered')"
   ],
   "metadata": {
    "collapsed": false
   }
  },
  {
   "cell_type": "code",
   "execution_count": null,
   "outputs": [],
   "source": [
    "site = 'm2s1'\n",
    "directory_base = '../Graphs/spatial_weight_without_norm/'+site+'/'\n",
    "make_dir_try(directory_base)\n",
    "for neuron in range(num_neurons):\n",
    "    data = spatial_w_np[neuron]\n",
    "    plt.figure(neuron)\n",
    "\n",
    "    plt.jet()\n",
    "    plt.matshow(data)\n",
    "    plt.colorbar()\n",
    "    # params = fitgaussian(data)\n",
    "    # fit = gaussian(*params)\n",
    "\n",
    "    # ct_data = np.indices(data.shape)\n",
    "    # ct_z = fit(*ct_data)\n",
    "    # #levels = [0.2, 0.4, 0.6, 0.8, 1.0]\n",
    "    # # contour the gridded data, plotting dots at the randomly spaced data points.\n",
    "    # plt.contour(ct_z,linewidths=0.5,colors='k')\n",
    "    # #plt.contour(ct_z, cmap=plt.cm.copper)\n",
    "    # ax = plt.gca()\n",
    "    # (height, x, y, width_x, width_y) = params\n",
    "    #\n",
    "    # plt.text(0.95, 0.05, \"\"\"\n",
    "    # x : %.1f\n",
    "    # y : %.1f\n",
    "    # width_x : %.1f\n",
    "    # width_y : %.1f\"\"\" %(x, y, width_x, width_y),\n",
    "    #         fontsize=16, horizontalalignment='right',\n",
    "    #         verticalalignment='bottom', transform=ax.transAxes)\n",
    "    directory = directory_base+str(neuron)+'.jpg'\n",
    "    plt.savefig(directory)"
   ],
   "metadata": {
    "collapsed": false,
    "pycharm": {
     "is_executing": true
    }
   }
  },
  {
   "cell_type": "code",
   "execution_count": null,
   "outputs": [],
   "source": [
    "nb_validation_samples = 1000\n",
    "nb_training_samples = 49000\n",
    "train_x = np.load('../data/Processed_Tang_data/all_sites_data_prepared/pics_data/train_img_m2s1.npy')\n",
    "val_x = np.load('../data/Processed_Tang_data/all_sites_data_prepared/pics_data/val_img_m2s1.npy')\n",
    "train_y = np.load('../data/Processed_Tang_data/all_sites_data_prepared/New_response_data/trainRsp_m2s1.npy')\n",
    "val_y = np.load('../data/Processed_Tang_data/all_sites_data_prepared/New_response_data/valRsp_m2s1.npy')\n",
    "train_x =  np.transpose(train_x, (0, 3, 1, 2))\n",
    "val_x =  np.transpose(val_x, (0, 3, 1, 2))\n",
    "batch_size = 2048\n",
    "num_neurons = 299\n",
    "\n",
    "val_loader = array_to_dataloader(val_x, val_y, batch_size=200)\n",
    "train_loader = array_to_dataloader(train_x, train_y, batch_size=200)\n",
    "\n",
    "selected_idx = np.load('../data/tmp_data/selected_idx_R.npy')[:10]\n",
    "\n",
    "with torch.no_grad():\n",
    "    net.eval()\n",
    "    prediction = []\n",
    "    actual = []\n",
    "    for batch_num, (x, y) in enumerate(tqdm(val_loader)):\n",
    "        x, y = x.to(device), y.to(device)\n",
    "        outputs = net(x).cpu().numpy()\n",
    "        prediction.extend(outputs)\n",
    "        actual.extend(y.cpu().numpy())\n",
    "\n",
    "    prediction = np.stack(prediction)\n",
    "    actual = np.stack(actual)\n",
    "    R = np.zeros(299)\n",
    "    VE = np.zeros(299)\n",
    "    SR = np.zeros(299)\n",
    "    MAE = np.zeros(299)\n",
    "    for neuron in (range(num_neurons)):\n",
    "        # vis_img = plt.imread(\"corr+mae/\" + str(neuron) + '.jpg')\n",
    "        # vis_img = torch.reshape(torch.tensor(vis_img).type(torch.FloatTensor), (1, 1, 50, 50)).to(device)\n",
    "        # vis_img -= vis_img.min()\n",
    "        # vis_img /= (vis_img.max() - vis_img.min())\n",
    "        # vis_rsp = net(vis_img).cpu().numpy()\n",
    "\n",
    "\n",
    "        pred1 = prediction[:, neuron]\n",
    "        val_y = actual[:, neuron]\n",
    "        mae = np.sum(np.abs(pred1 - val_y))\n",
    "        MAE[neuron] = mae\n",
    "        y_arg = np.argsort(val_y)\n",
    "\n",
    "        u2 = np.zeros((2, nb_validation_samples))\n",
    "        u2[0, :] = np.reshape(pred1, (nb_validation_samples))\n",
    "        u2[1, :] = np.reshape(val_y, (nb_validation_samples))\n",
    "\n",
    "        c2 = np.corrcoef(u2)\n",
    "        R[neuron] = c2[0, 1]\n",
    "        SR[neuron] = spearmanr(pred1, val_y)[0]\n",
    "        VE[neuron] = 1 - np.var(pred1 - val_y) / np.var(val_y)\n",
    "\n",
    "        fig = plt.figure(neuron)\n",
    "        plt.plot(pred1[y_arg], label='pred')\n",
    "        plt.plot(np.sort(val_y), label='actual')\n",
    "        #plt.axhline(y=vis_rsp[:,neuron].item(), color='r', linestyle='-')\n",
    "        plt.title(str(R[neuron]))\n",
    "        plt.legend()\n",
    "        directory = 'A:/school/College_Junior/research/CNN_Tang_project/Graphs/tests/pure_mae_tuning_'+str(channels)+'_'+str(num_layers)\n",
    "        make_dir_try(directory)\n",
    "        plt.savefig(directory+'/' + str(neuron) )\n",
    "        plt.show()\n",
    "        plt.close(fig)\n",
    "\n",
    "    #selected_idx_SR = np.argsort(SR)[::-1]\n",
    "    #np.save('selected_idx_SR', selected_idx_SR)\n",
    "    #print(R)\n",
    "    print(np.mean(SR))\n",
    "    print(np.mean(R))\n",
    "    print(np.mean(VE))\n",
    "    print(np.mean(MAE))"
   ],
   "metadata": {
    "collapsed": false,
    "pycharm": {
     "is_executing": true
    }
   }
  },
  {
   "cell_type": "code",
   "execution_count": 20,
   "outputs": [
    {
     "data": {
      "text/plain": "<Figure size 432x288 with 1 Axes>",
      "image/png": "[encoded data removed]"
     },
     "metadata": {
      "needs_background": "light"
     },
     "output_type": "display_data"
    },
    {
     "data": {
      "text/plain": "<Figure size 432x288 with 1 Axes>",
      "image/png": "[encoded data removed]"
     },
     "metadata": {
      "needs_background": "light"
     },
     "output_type": "display_data"
    }
   ],
   "source": [
    "directory = 'A:/school/College_Junior/research/CNN_Tang_project/Graphs/tests/pure_mae_tuning_'+str(channels)+'_'+str(num_layers)\n",
    "plt.hist(R)\n",
    "plt.title(str(np.mean(R)))\n",
    "plt.savefig(directory+'/Ro')\n",
    "plt.show()\n",
    "plt.hist(VE)\n",
    "plt.title(str(np.mean(VE)))\n",
    "plt.savefig(directory+'/VEo')\n",
    "plt.show()"
   ],
   "metadata": {
    "collapsed": false
   }
  },
  {
   "cell_type": "code",
   "execution_count": null,
   "outputs": [],
   "source": [
    "def make_dir_try(dir):\n",
    "    try:\n",
    "        os.makedirs(dir, exist_ok=True)\n",
    "        print(\"Directory '%s' created successfully\" % dir)\n",
    "    except OSError as error:\n",
    "        print(\"Directory '%s' can not be created\" % dir)\n",
    "directory = 'A:/school/College_Junior/research/CNN_Tang_project/analysis/Visualization/corr_mae_trained'\n",
    "make_dir_try(directory)\n",
    "\n",
    "top_idx = np.argsort(R)\n",
    "selected_idx = top_idx[::-1][:20]\n",
    "for neuron in range(299):\n",
    "    visualize_neuron(neuron, input_size, [net], directory, save=True)"
   ],
   "metadata": {
    "collapsed": false,
    "pycharm": {
     "is_executing": true
    }
   }
  },
  {
   "cell_type": "code",
   "execution_count": 52,
   "outputs": [
    {
     "name": "stderr",
     "output_type": "stream",
     "text": [
      "100%|██████████| 50/50 [00:11<00:00,  4.25it/s]\n"
     ]
    }
   ],
   "source": [
    "a=np.zeros((50,50))\n",
    "bar_wid=1\n",
    "bar_len = 1\n",
    "rsp_matrix = np.zeros((num_neurons,50,50))\n",
    "for i in tqdm(range(a.shape[0])):\n",
    "    for j in range(a.shape[0]):\n",
    "        #plt.pause(0.1)\n",
    "        a[i, max(0,j-2):min(50,j+2)]=1\n",
    "        #plt.imshow(a)\n",
    "        input = torch.FloatTensor(np.reshape(a,(1,1,50,50))).to(device)\n",
    "        rspa=net(input).detach().cpu().numpy()\n",
    "        a=np.zeros((50,50))\n",
    "        a[max(0,i-2):min(50,i+2),j]=1\n",
    "        #plt.imshow(a)\n",
    "        input = torch.FloatTensor(np.reshape(a,(1,1,50,50))).to(device)\n",
    "        rspb=net(input).detach().cpu().numpy()\n",
    "        a=np.zeros((50,50))\n",
    "        for neuron in range(num_neurons):\n",
    "            rsp_matrix[neuron,i,j] = max(rspa[:,neuron],rspb[:,neuron])"
   ],
   "metadata": {
    "collapsed": false
   }
  },
  {
   "cell_type": "code",
   "execution_count": null,
   "outputs": [],
   "source": [
    "for neuron in range(num_neurons):\n",
    "    plt.pause(0.1)\n",
    "    plt.imshow(rsp_matrix[neuron])\n",
    "    plt.jet()"
   ],
   "metadata": {
    "collapsed": false,
    "pycharm": {
     "is_executing": true
    }
   }
  },
  {
   "cell_type": "code",
   "execution_count": null,
   "outputs": [],
   "source": [
    "\n",
    "site = 'm2s1'\n",
    "directory_base = '../Graphs/receptive_test_focus/'+site+'/'\n",
    "make_dir_try(directory_base)\n",
    "for neuron in range(num_neurons):\n",
    "    # Create the gaussian data\n",
    "    Xin, Yin = np.mgrid[0:201, 0:201]\n",
    "    #data = gaussian(3, 100, 100, 20, 40)(Xin, Yin) + np.random.random(Xin.shape)\n",
    "    data = rsp_matrix[neuron]\n",
    "    data -= data.min()\n",
    "    data /= (data.max() - data.min())\n",
    "    img = data * 256\n",
    "    plt.figure(neuron)\n",
    "    plt.matshow(data, cmap=plt.cm.gist_earth_r)\n",
    "\n",
    "    params = fitgaussian(data)\n",
    "    fit = gaussian(*params)\n",
    "\n",
    "    ct_data = np.indices(data.shape)\n",
    "    ct_z = fit(*ct_data)\n",
    "    levels = [0.2, 0.4, 0.6, 0.8, 1.0]\n",
    "    # contour the gridded data, plotting dots at the randomly spaced data points.\n",
    "    plt.contour(ct_z,len(levels),linewidths=0.5,colors='k', levels=levels)\n",
    "    #plt.contour(ct_z, cmap=plt.cm.copper)\n",
    "    ax = plt.gca()\n",
    "    (height, x, y, width_x, width_y) = params\n",
    "\n",
    "    plt.text(0.95, 0.05, \"\"\"\n",
    "    x : %.1f\n",
    "    y : %.1f\n",
    "    width_x : %.1f\n",
    "    width_y : %.1f\"\"\" %(x, y, width_x, width_y),\n",
    "            fontsize=16, horizontalalignment='right',\n",
    "            verticalalignment='bottom', transform=ax.transAxes)\n",
    "    directory = directory_base+str(neuron)+'.jpg'\n",
    "    plt.savefig(directory)"
   ],
   "metadata": {
    "collapsed": false,
    "pycharm": {
     "is_executing": true
    }
   }
  }
 ],
 "metadata": {
  "kernelspec": {
   "name": "python3",
   "language": "python",
   "display_name": "Python 3 (ipykernel)"
  },
  "language_info": {
   "codemirror_mode": {
    "name": "ipython",
    "version": 2
   },
   "file_extension": ".py",
   "mimetype": "text/x-python",
   "name": "python",
   "nbconvert_exporter": "python",
   "pygments_lexer": "ipython2",
   "version": "2.7.6"
  }
 },
 "nbformat": 4,
 "nbformat_minor": 0
}
